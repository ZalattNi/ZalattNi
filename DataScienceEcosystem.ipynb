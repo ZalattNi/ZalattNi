{
 "cells": [
  {
   "cell_type": "markdown",
   "id": "56655043",
   "metadata": {},
   "source": [
    "# Data Science Tools and Ecosystem"
   ]
  },
  {
   "cell_type": "markdown",
   "id": "51ffe793",
   "metadata": {},
   "source": [
    "### In this notebook, Data Science Tools and Ecosystem are summarized."
   ]
  },
  {
   "cell_type": "markdown",
   "id": "e057ad1c",
   "metadata": {},
   "source": [
    "### Objectives:\n",
    "* _List popular languages for Data Science_\n",
    "* _List commonly used libraries in Data Science_\n",
    "* _List open source tools in Data Science_\n",
    "* _List visualization librarits in Data Science_\n",
    "* _List open dataset and sources in Data Science_\n"
   ]
  },
  {
   "cell_type": "markdown",
   "id": "03ea6ac2",
   "metadata": {},
   "source": [
    "Some of the popular languages that Data Scientists use are:\n",
    "1. Python\n",
    "2. R\n",
    "3. JavaScript\n",
    "4. C\n",
    "5. Julia"
   ]
  },
  {
   "cell_type": "markdown",
   "id": "c49dd572",
   "metadata": {},
   "source": [
    "Some of the commonly used libraries used by Data Scientists include:\n",
    "* Panda\n",
    "* Numpy\n",
    "* Matplotlib\n",
    "* SciPy\n",
    "* Scikit-learn\n",
    "* TensorFlow\n"
   ]
  },
  {
   "cell_type": "markdown",
   "id": "dbdb177d",
   "metadata": {},
   "source": [
    "|Data Science Tools|\n",
    "|:----------------:|\n",
    "|Jupyter Notebook  |\n",
    "|R Studio          |\n",
    "|Spyder            |\n",
    "\n",
    "        "
   ]
  },
  {
   "cell_type": "markdown",
   "id": "c82a0146",
   "metadata": {},
   "source": [
    "### Below are a few examples of evaluating arithmetic expression in python."
   ]
  },
  {
   "cell_type": "code",
   "execution_count": 3,
   "id": "13943fae",
   "metadata": {},
   "outputs": [
    {
     "data": {
      "text/plain": [
       "17"
      ]
     },
     "execution_count": 3,
     "metadata": {},
     "output_type": "execute_result"
    }
   ],
   "source": [
    "#This is a simple arithmetic expression to multiply then add integers.\n",
    "(3*4)+5"
   ]
  },
  {
   "cell_type": "code",
   "execution_count": 8,
   "id": "445e9478",
   "metadata": {},
   "outputs": [
    {
     "name": "stdout",
     "output_type": "stream",
     "text": [
      "200 minutes =  3.3333333333333335 hr\n"
     ]
    }
   ],
   "source": [
    "#This will convert 200 minutes to hours by dividing by 60.\n",
    "minutes = 200\n",
    "hour = minutes/60\n",
    "print(\"200 minutes = \", hour, \"hr\")"
   ]
  },
  {
   "cell_type": "markdown",
   "id": "76a45ac2",
   "metadata": {},
   "source": [
    "## Author\n",
    "Ohn"
   ]
  },
  {
   "cell_type": "code",
   "execution_count": null,
   "id": "3c6f12d1",
   "metadata": {},
   "outputs": [],
   "source": []
  }
 ],
 "metadata": {
  "kernelspec": {
   "display_name": "Python 3 (ipykernel)",
   "language": "python",
   "name": "python3"
  },
  "language_info": {
   "codemirror_mode": {
    "name": "ipython",
    "version": 3
   },
   "file_extension": ".py",
   "mimetype": "text/x-python",
   "name": "python",
   "nbconvert_exporter": "python",
   "pygments_lexer": "ipython3",
   "version": "3.10.9"
  }
 },
 "nbformat": 4,
 "nbformat_minor": 5
}
